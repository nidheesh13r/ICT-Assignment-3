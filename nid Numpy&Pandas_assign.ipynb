{
 "cells": [
  {
   "cell_type": "code",
   "execution_count": 5,
   "id": "ab2ab7cd-d5e2-4b75-9bc9-ac4d4dbaf483",
   "metadata": {},
   "outputs": [
    {
     "name": "stdout",
     "output_type": "stream",
     "text": [
      "mean 26.0,standard deviation 11.60172400981854\n"
     ]
    }
   ],
   "source": [
    "#1\n",
    "import numpy as np\n",
    "arr = np.random.randint(low = 10, high = 50, size = 20)\n",
    "#print(arr)\n",
    "mean = np.mean(arr)\n",
    "std = np.std(arr)\n",
    "print(f\"mean {mean},standard deviation {std}\")"
   ]
  },
  {
   "cell_type": "code",
   "execution_count": 12,
   "id": "4212c01d-da36-4051-88e0-156025e0d417",
   "metadata": {},
   "outputs": [
    {
     "name": "stdout",
     "output_type": "stream",
     "text": [
      "[[0.54249449 0.02202062 0.11202848 0.58511248 0.79118384]\n",
      " [0.49520222 0.784711   0.24762209 0.62793824 0.01710447]\n",
      " [0.09724181 0.12636858 0.97720034 0.00964201 0.78217924]\n",
      " [0.91907769 0.06333866 0.54451639 0.35322146 0.1045287 ]\n",
      " [0.07935292 0.39139657 0.62199456 0.48272185 0.33832153]\n",
      " [0.46753874 0.2890836  0.00187676 0.96572099 0.44033899]]\n",
      "[[0.54249449 0.02202062 0.11202848 0.58511248 0.79118384 0.49520222]\n",
      " [0.784711   0.24762209 0.62793824 0.01710447 0.09724181 0.12636858]\n",
      " [0.97720034 0.00964201 0.78217924 0.91907769 0.06333866 0.54451639]\n",
      " [0.35322146 0.1045287  0.07935292 0.39139657 0.62199456 0.48272185]\n",
      " [0.33832153 0.46753874 0.2890836  0.00187676 0.96572099 0.44033899]]\n"
     ]
    }
   ],
   "source": [
    "#2\n",
    "arr = np.random.rand(6, 5)\n",
    "print(arr)\n",
    "arr1 = arr.reshape(5,6)\n",
    "print(arr1)"
   ]
  },
  {
   "cell_type": "code",
   "execution_count": 16,
   "id": "eff292cd-e0d6-49db-b495-ccb54470ec94",
   "metadata": {},
   "outputs": [
    {
     "name": "stdout",
     "output_type": "stream",
     "text": [
      "[[ 1  2  3  4  5]\n",
      " [ 6  7  8  9 10]\n",
      " [11 12 13 14 15]\n",
      " [16 17 18 19 20]\n",
      " [21 22 23 24 25]]\n"
     ]
    },
    {
     "data": {
      "text/plain": [
       "array([[12, 13, 14],\n",
       "       [17, 18, 19],\n",
       "       [22, 23, 24]])"
      ]
     },
     "execution_count": 16,
     "metadata": {},
     "output_type": "execute_result"
    }
   ],
   "source": [
    "#3\n",
    "arr = np.arange(1,26).reshape(5,5)\n",
    "print(arr)\n",
    "arr[2:,1:4]"
   ]
  },
  {
   "cell_type": "code",
   "execution_count": 33,
   "id": "7c45b798-6ec4-4ae4-ba98-2485950f62a3",
   "metadata": {},
   "outputs": [
    {
     "name": "stdout",
     "output_type": "stream",
     "text": [
      "[139 166  50  86  84  61 156 100  95  18]\n",
      "[278 332 100 172 168 122 312 200 190  36]\n"
     ]
    }
   ],
   "source": [
    "#4\n",
    "A = np.random.randint(low = 1, high = 100, size = 10)\n",
    "B = np.random.randint(low = 1, high = 100, size = 10)\n",
    "\n",
    "sum_arr = A+B\n",
    "print(sum_arr)\n",
    "print(sum_arr*2)"
   ]
  },
  {
   "cell_type": "code",
   "execution_count": 34,
   "id": "f87c97bd-b48c-46be-82fa-97e7972eba25",
   "metadata": {},
   "outputs": [
    {
     "name": "stdout",
     "output_type": "stream",
     "text": [
      "[[ 5  7  6 11]\n",
      " [10 11  7 10]\n",
      " [ 6  8  8  6]]\n"
     ]
    }
   ],
   "source": [
    "#5\n",
    "A = np.random.randint(low = 1, high = 10, size = (3,4))\n",
    "B = np.array([1, 2, 3, 4]).reshape(4,)\n",
    "sum_arr = arr1+arr2\n",
    "print(sum_arr)\n"
   ]
  },
  {
   "cell_type": "code",
   "execution_count": 46,
   "id": "20d9da1c-af8f-49a2-84fc-146bac1c51ad",
   "metadata": {},
   "outputs": [
    {
     "name": "stdout",
     "output_type": "stream",
     "text": [
      "[[93  7 45]\n",
      " [ 1 75 67]\n",
      " [ 6 90 37]]\n",
      "sum of each row = [145 143 133]\n",
      "Index of Row with max sum =  0\n",
      "Maximum value in the row with max sum =  93\n"
     ]
    }
   ],
   "source": [
    "#6\n",
    "arr = np.random.randint(low = 1, high = 100, size = (3,3))\n",
    "print(arr)\n",
    "\n",
    "# Find the row with the maximum sum\n",
    "sum_row = arr.sum(axis=1)\n",
    "print(\"sum of each row =\",sum_row)\n",
    "max_row_index = np.argmax(sum_row)\n",
    "print(\"Index of Row with max sum = \",max_row_index)\n",
    "max_value = np.max(arr[max_row_index])\n",
    "print(\"Maximum value in the row with max sum = \",max_value)"
   ]
  },
  {
   "cell_type": "code",
   "execution_count": 53,
   "id": "6a4cded7-df18-4341-ab91-925311a6cc04",
   "metadata": {},
   "outputs": [
    {
     "name": "stdout",
     "output_type": "stream",
     "text": [
      " A = [[5 3]\n",
      " [2 7]]\n",
      " B = [[6 9]\n",
      " [3 9]]\n",
      "Dot product of A.B =  [[39 72]\n",
      " [33 81]]\n"
     ]
    }
   ],
   "source": [
    "#7\n",
    "A = np.random.randint(1,10,(2,2))\n",
    "B = np.random.randint(1,10,(2,2))\n",
    "print(\" A =\",A)\n",
    "print(\" B =\",B)\n",
    "dot_pdt = np.dot(A,B)\n",
    "print(\"Dot product of A.B = \",dot_pdt)"
   ]
  },
  {
   "cell_type": "code",
   "execution_count": 54,
   "id": "7fca26d7-9fbb-4068-959f-51bf2f01d2ef",
   "metadata": {},
   "outputs": [
    {
     "name": "stdout",
     "output_type": "stream",
     "text": [
      "[[43 26 27  1 36 32]\n",
      " [ 9 30 10  6 14 38]\n",
      " [28  7 35  4 26 20]\n",
      " [ 6  7 16 15  3  4]\n",
      " [34 26 49 45 25 42]\n",
      " [25 43  9 46 14  1]]\n"
     ]
    },
    {
     "data": {
      "text/plain": [
       "array([43, 26, 27, 36, 32, 30, 38, 28, 35, 26, 34, 26, 49, 45, 42, 43, 46],\n",
       "      dtype=int32)"
      ]
     },
     "execution_count": 54,
     "metadata": {},
     "output_type": "execute_result"
    }
   ],
   "source": [
    "#8\n",
    "A = np.random.randint(1,50,(6,6))\n",
    "print(A)\n",
    "A[(A>25)]\n"
   ]
  },
  {
   "cell_type": "code",
   "execution_count": 55,
   "id": "65a101ee-a620-4079-bb38-fd6211f4374f",
   "metadata": {},
   "outputs": [
    {
     "name": "stdout",
     "output_type": "stream",
     "text": [
      "[[0.68601833 0.76441954 0.34623097 0.85685079 0.45400563]\n",
      " [0.8190774  0.52041731 0.88096804 0.87135967 0.56948376]\n",
      " [0.08108598 0.46742884 0.94398194 0.4285735  0.32584745]\n",
      " [0.002565   0.15863606 0.70094912 0.88025788 0.97318946]\n",
      " [0.96403286 0.44575298 0.67300539 0.49216393 0.00468565]]\n",
      "median along the columns  [0.68601833 0.46742884 0.70094912 0.85685079 0.45400563]\n",
      "median along the rows  [0.68601833 0.8190774  0.4285735  0.70094912 0.49216393]\n",
      "Variance along the columns  [0.15482262 0.03735159 0.04355026 0.04063136 0.1001092 ]\n",
      "Variance along the rows  [0.0367612  0.0240747  0.0792581  0.15271187 0.09846586]\n"
     ]
    }
   ],
   "source": [
    "#9\n",
    "arr = np.random.rand(5, 5)\n",
    "print(arr)\n",
    "print(\"median along the columns \",np.median(arr,axis =0))\n",
    "print(\"median along the rows \",np.median(arr,axis =1))\n",
    "print(\"Variance along the columns \",np.var(arr,axis =0))\n",
    "print(\"Variance along the rows \",np.var(arr,axis =1))\n"
   ]
  },
  {
   "cell_type": "code",
   "execution_count": 66,
   "id": "0d6ba8ea-89a2-409a-bbcd-30d8a21d96b0",
   "metadata": {},
   "outputs": [
    {
     "name": "stdout",
     "output_type": "stream",
     "text": [
      "[[7 5 6]\n",
      " [2 1 1]\n",
      " [9 5 7]]\n",
      "Result after subracting 2 from each element [[ 5  3  4]\n",
      " [ 0 -1 -1]\n",
      " [ 7  3  5]]\n",
      "Result after squaring each element [[2.401e+01 8.410e+00 1.521e+01]\n",
      " [1.000e-02 1.210e+00 1.210e+00]\n",
      " [4.761e+01 8.410e+00 2.401e+01]]\n",
      "Reciprocal [[4.16493128e-02 1.18906064e-01 6.57462196e-02]\n",
      " [1.00000000e+02 8.26446281e-01 8.26446281e-01]\n",
      " [2.10039908e-02 1.18906064e-01 4.16493128e-02]]\n"
     ]
    }
   ],
   "source": [
    "#10\n",
    "A = np.random.randint(1,10,(3,3))\n",
    "print(A)\n",
    "print(\"Result after subracting 2 from each element\",A-2)\n",
    "square_matrix = np.square(A-2.1)\n",
    "print(\"Result after squaring each element\",square_matrix)\n",
    "print(\"Reciprocal\",np.reciprocal(square_matrix))"
   ]
  },
  {
   "cell_type": "code",
   "execution_count": 70,
   "id": "fc4f1b18-2671-4180-bde5-b6096cde0e17",
   "metadata": {},
   "outputs": [
    {
     "data": {
      "text/html": [
       "<div>\n",
       "<style scoped>\n",
       "    .dataframe tbody tr th:only-of-type {\n",
       "        vertical-align: middle;\n",
       "    }\n",
       "\n",
       "    .dataframe tbody tr th {\n",
       "        vertical-align: top;\n",
       "    }\n",
       "\n",
       "    .dataframe thead th {\n",
       "        text-align: right;\n",
       "    }\n",
       "</style>\n",
       "<table border=\"1\" class=\"dataframe\">\n",
       "  <thead>\n",
       "    <tr style=\"text-align: right;\">\n",
       "      <th></th>\n",
       "      <th>mpg</th>\n",
       "      <th>cylinders</th>\n",
       "      <th>displacement</th>\n",
       "      <th>horsepower</th>\n",
       "      <th>weight</th>\n",
       "      <th>acceleration</th>\n",
       "      <th>model year</th>\n",
       "      <th>origin</th>\n",
       "      <th>car name</th>\n",
       "    </tr>\n",
       "  </thead>\n",
       "  <tbody>\n",
       "    <tr>\n",
       "      <th>0</th>\n",
       "      <td>18.0</td>\n",
       "      <td>8</td>\n",
       "      <td>307.0</td>\n",
       "      <td>130</td>\n",
       "      <td>3504</td>\n",
       "      <td>12.0</td>\n",
       "      <td>70</td>\n",
       "      <td>1</td>\n",
       "      <td>chevrolet chevelle malibu</td>\n",
       "    </tr>\n",
       "    <tr>\n",
       "      <th>1</th>\n",
       "      <td>15.0</td>\n",
       "      <td>8</td>\n",
       "      <td>350.0</td>\n",
       "      <td>165</td>\n",
       "      <td>3693</td>\n",
       "      <td>11.5</td>\n",
       "      <td>70</td>\n",
       "      <td>1</td>\n",
       "      <td>buick skylark 320</td>\n",
       "    </tr>\n",
       "    <tr>\n",
       "      <th>2</th>\n",
       "      <td>18.0</td>\n",
       "      <td>8</td>\n",
       "      <td>318.0</td>\n",
       "      <td>150</td>\n",
       "      <td>3436</td>\n",
       "      <td>11.0</td>\n",
       "      <td>70</td>\n",
       "      <td>1</td>\n",
       "      <td>plymouth satellite</td>\n",
       "    </tr>\n",
       "    <tr>\n",
       "      <th>3</th>\n",
       "      <td>16.0</td>\n",
       "      <td>8</td>\n",
       "      <td>304.0</td>\n",
       "      <td>150</td>\n",
       "      <td>3433</td>\n",
       "      <td>12.0</td>\n",
       "      <td>70</td>\n",
       "      <td>1</td>\n",
       "      <td>amc rebel sst</td>\n",
       "    </tr>\n",
       "    <tr>\n",
       "      <th>4</th>\n",
       "      <td>17.0</td>\n",
       "      <td>8</td>\n",
       "      <td>302.0</td>\n",
       "      <td>140</td>\n",
       "      <td>3449</td>\n",
       "      <td>10.5</td>\n",
       "      <td>70</td>\n",
       "      <td>1</td>\n",
       "      <td>ford torino</td>\n",
       "    </tr>\n",
       "    <tr>\n",
       "      <th>5</th>\n",
       "      <td>15.0</td>\n",
       "      <td>8</td>\n",
       "      <td>429.0</td>\n",
       "      <td>198</td>\n",
       "      <td>4341</td>\n",
       "      <td>10.0</td>\n",
       "      <td>70</td>\n",
       "      <td>1</td>\n",
       "      <td>ford galaxie 500</td>\n",
       "    </tr>\n",
       "    <tr>\n",
       "      <th>6</th>\n",
       "      <td>14.0</td>\n",
       "      <td>8</td>\n",
       "      <td>454.0</td>\n",
       "      <td>220</td>\n",
       "      <td>4354</td>\n",
       "      <td>9.0</td>\n",
       "      <td>70</td>\n",
       "      <td>1</td>\n",
       "      <td>chevrolet impala</td>\n",
       "    </tr>\n",
       "    <tr>\n",
       "      <th>7</th>\n",
       "      <td>14.0</td>\n",
       "      <td>8</td>\n",
       "      <td>440.0</td>\n",
       "      <td>215</td>\n",
       "      <td>4312</td>\n",
       "      <td>8.5</td>\n",
       "      <td>70</td>\n",
       "      <td>1</td>\n",
       "      <td>plymouth fury iii</td>\n",
       "    </tr>\n",
       "    <tr>\n",
       "      <th>8</th>\n",
       "      <td>14.0</td>\n",
       "      <td>8</td>\n",
       "      <td>455.0</td>\n",
       "      <td>225</td>\n",
       "      <td>4425</td>\n",
       "      <td>10.0</td>\n",
       "      <td>70</td>\n",
       "      <td>1</td>\n",
       "      <td>pontiac catalina</td>\n",
       "    </tr>\n",
       "    <tr>\n",
       "      <th>9</th>\n",
       "      <td>15.0</td>\n",
       "      <td>8</td>\n",
       "      <td>390.0</td>\n",
       "      <td>190</td>\n",
       "      <td>3850</td>\n",
       "      <td>8.5</td>\n",
       "      <td>70</td>\n",
       "      <td>1</td>\n",
       "      <td>amc ambassador dpl</td>\n",
       "    </tr>\n",
       "  </tbody>\n",
       "</table>\n",
       "</div>"
      ],
      "text/plain": [
       "    mpg  cylinders  displacement horsepower  weight  acceleration  model year  \\\n",
       "0  18.0          8         307.0        130    3504          12.0          70   \n",
       "1  15.0          8         350.0        165    3693          11.5          70   \n",
       "2  18.0          8         318.0        150    3436          11.0          70   \n",
       "3  16.0          8         304.0        150    3433          12.0          70   \n",
       "4  17.0          8         302.0        140    3449          10.5          70   \n",
       "5  15.0          8         429.0        198    4341          10.0          70   \n",
       "6  14.0          8         454.0        220    4354           9.0          70   \n",
       "7  14.0          8         440.0        215    4312           8.5          70   \n",
       "8  14.0          8         455.0        225    4425          10.0          70   \n",
       "9  15.0          8         390.0        190    3850           8.5          70   \n",
       "\n",
       "   origin                   car name  \n",
       "0       1  chevrolet chevelle malibu  \n",
       "1       1          buick skylark 320  \n",
       "2       1         plymouth satellite  \n",
       "3       1              amc rebel sst  \n",
       "4       1                ford torino  \n",
       "5       1           ford galaxie 500  \n",
       "6       1           chevrolet impala  \n",
       "7       1          plymouth fury iii  \n",
       "8       1           pontiac catalina  \n",
       "9       1         amc ambassador dpl  "
      ]
     },
     "execution_count": 70,
     "metadata": {},
     "output_type": "execute_result"
    }
   ],
   "source": [
    "#PANDAS\n",
    "#1\n",
    "import pandas as pd\n",
    "\n",
    "df = pd.read_csv(\"auto-mpg.csv\")\n",
    "df.head(10)\n"
   ]
  },
  {
   "cell_type": "code",
   "execution_count": 71,
   "id": "c237d2d0-73d1-408c-a147-a70a29174b88",
   "metadata": {},
   "outputs": [
    {
     "data": {
      "text/plain": [
       "(398, 9)"
      ]
     },
     "execution_count": 71,
     "metadata": {},
     "output_type": "execute_result"
    }
   ],
   "source": [
    "df.shape"
   ]
  },
  {
   "cell_type": "code",
   "execution_count": 72,
   "id": "9f5c975d-f8de-4b20-96ad-2fd2420fdbd8",
   "metadata": {},
   "outputs": [
    {
     "data": {
      "text/html": [
       "<div>\n",
       "<style scoped>\n",
       "    .dataframe tbody tr th:only-of-type {\n",
       "        vertical-align: middle;\n",
       "    }\n",
       "\n",
       "    .dataframe tbody tr th {\n",
       "        vertical-align: top;\n",
       "    }\n",
       "\n",
       "    .dataframe thead th {\n",
       "        text-align: right;\n",
       "    }\n",
       "</style>\n",
       "<table border=\"1\" class=\"dataframe\">\n",
       "  <thead>\n",
       "    <tr style=\"text-align: right;\">\n",
       "      <th></th>\n",
       "      <th>mpg</th>\n",
       "      <th>cylinders</th>\n",
       "      <th>displacement</th>\n",
       "      <th>weight</th>\n",
       "      <th>acceleration</th>\n",
       "      <th>model year</th>\n",
       "      <th>origin</th>\n",
       "    </tr>\n",
       "  </thead>\n",
       "  <tbody>\n",
       "    <tr>\n",
       "      <th>count</th>\n",
       "      <td>398.000000</td>\n",
       "      <td>398.000000</td>\n",
       "      <td>398.000000</td>\n",
       "      <td>398.000000</td>\n",
       "      <td>398.000000</td>\n",
       "      <td>398.000000</td>\n",
       "      <td>398.000000</td>\n",
       "    </tr>\n",
       "    <tr>\n",
       "      <th>mean</th>\n",
       "      <td>23.514573</td>\n",
       "      <td>5.454774</td>\n",
       "      <td>193.425879</td>\n",
       "      <td>2970.424623</td>\n",
       "      <td>15.568090</td>\n",
       "      <td>76.010050</td>\n",
       "      <td>1.572864</td>\n",
       "    </tr>\n",
       "    <tr>\n",
       "      <th>std</th>\n",
       "      <td>7.815984</td>\n",
       "      <td>1.701004</td>\n",
       "      <td>104.269838</td>\n",
       "      <td>846.841774</td>\n",
       "      <td>2.757689</td>\n",
       "      <td>3.697627</td>\n",
       "      <td>0.802055</td>\n",
       "    </tr>\n",
       "    <tr>\n",
       "      <th>min</th>\n",
       "      <td>9.000000</td>\n",
       "      <td>3.000000</td>\n",
       "      <td>68.000000</td>\n",
       "      <td>1613.000000</td>\n",
       "      <td>8.000000</td>\n",
       "      <td>70.000000</td>\n",
       "      <td>1.000000</td>\n",
       "    </tr>\n",
       "    <tr>\n",
       "      <th>25%</th>\n",
       "      <td>17.500000</td>\n",
       "      <td>4.000000</td>\n",
       "      <td>104.250000</td>\n",
       "      <td>2223.750000</td>\n",
       "      <td>13.825000</td>\n",
       "      <td>73.000000</td>\n",
       "      <td>1.000000</td>\n",
       "    </tr>\n",
       "    <tr>\n",
       "      <th>50%</th>\n",
       "      <td>23.000000</td>\n",
       "      <td>4.000000</td>\n",
       "      <td>148.500000</td>\n",
       "      <td>2803.500000</td>\n",
       "      <td>15.500000</td>\n",
       "      <td>76.000000</td>\n",
       "      <td>1.000000</td>\n",
       "    </tr>\n",
       "    <tr>\n",
       "      <th>75%</th>\n",
       "      <td>29.000000</td>\n",
       "      <td>8.000000</td>\n",
       "      <td>262.000000</td>\n",
       "      <td>3608.000000</td>\n",
       "      <td>17.175000</td>\n",
       "      <td>79.000000</td>\n",
       "      <td>2.000000</td>\n",
       "    </tr>\n",
       "    <tr>\n",
       "      <th>max</th>\n",
       "      <td>46.600000</td>\n",
       "      <td>8.000000</td>\n",
       "      <td>455.000000</td>\n",
       "      <td>5140.000000</td>\n",
       "      <td>24.800000</td>\n",
       "      <td>82.000000</td>\n",
       "      <td>3.000000</td>\n",
       "    </tr>\n",
       "  </tbody>\n",
       "</table>\n",
       "</div>"
      ],
      "text/plain": [
       "              mpg   cylinders  displacement       weight  acceleration  \\\n",
       "count  398.000000  398.000000    398.000000   398.000000    398.000000   \n",
       "mean    23.514573    5.454774    193.425879  2970.424623     15.568090   \n",
       "std      7.815984    1.701004    104.269838   846.841774      2.757689   \n",
       "min      9.000000    3.000000     68.000000  1613.000000      8.000000   \n",
       "25%     17.500000    4.000000    104.250000  2223.750000     13.825000   \n",
       "50%     23.000000    4.000000    148.500000  2803.500000     15.500000   \n",
       "75%     29.000000    8.000000    262.000000  3608.000000     17.175000   \n",
       "max     46.600000    8.000000    455.000000  5140.000000     24.800000   \n",
       "\n",
       "       model year      origin  \n",
       "count  398.000000  398.000000  \n",
       "mean    76.010050    1.572864  \n",
       "std      3.697627    0.802055  \n",
       "min     70.000000    1.000000  \n",
       "25%     73.000000    1.000000  \n",
       "50%     76.000000    1.000000  \n",
       "75%     79.000000    2.000000  \n",
       "max     82.000000    3.000000  "
      ]
     },
     "execution_count": 72,
     "metadata": {},
     "output_type": "execute_result"
    }
   ],
   "source": [
    "df.describe()"
   ]
  },
  {
   "cell_type": "code",
   "execution_count": 75,
   "id": "a00148a6-ea47-44bf-83d8-01123ed5cc87",
   "metadata": {},
   "outputs": [
    {
     "name": "stdout",
     "output_type": "stream",
     "text": [
      "              car name  weight   mpg\n",
      "167     toyota corolla    2171  29.0\n",
      "168         ford pinto    2639  23.0\n",
      "169        amc gremlin    2914  20.0\n",
      "170      pontiac astro    2592  23.0\n",
      "171      toyota corona    2702  24.0\n",
      "172  volkswagen dasher    2223  25.0\n",
      "173         datsun 710    2545  24.0\n",
      "174         ford pinto    2984  18.0\n",
      "175  volkswagen rabbit    1937  29.0\n",
      "177         audi 100ls    2694  23.0\n",
      "178        peugeot 504    2957  23.0\n",
      "179        volvo 244dl    2945  22.0\n",
      "180          saab 99le    2671  25.0\n",
      "181   honda civic cvcc    1795  33.0\n"
     ]
    }
   ],
   "source": [
    "#2\n",
    "#Filtering and indexing\n",
    "\n",
    "filtered_df = df[(df['model year'] == 75) & (df['weight'] < 3000)][['car name', 'weight', 'mpg']]\n",
    "print(filtered_df)\n"
   ]
  },
  {
   "cell_type": "code",
   "execution_count": 76,
   "id": "302fa8c7-860c-4844-8b18-9d2be3d09e5e",
   "metadata": {},
   "outputs": [
    {
     "data": {
      "text/plain": [
       "mpg             0\n",
       "cylinders       0\n",
       "displacement    0\n",
       "horsepower      0\n",
       "weight          0\n",
       "acceleration    0\n",
       "model year      0\n",
       "origin          0\n",
       "car name        0\n",
       "dtype: int64"
      ]
     },
     "execution_count": 76,
     "metadata": {},
     "output_type": "execute_result"
    }
   ],
   "source": [
    "#3 missing values\n",
    "df.isna().sum()"
   ]
  },
  {
   "cell_type": "code",
   "execution_count": 77,
   "id": "d96dd8ef-7bc2-4fcc-9103-48fed20320d7",
   "metadata": {},
   "outputs": [
    {
     "data": {
      "text/plain": [
       "array(['130', '165', '150', '140', '198', '220', '215', '225', '190',\n",
       "       '170', '160', '95', '97', '85', '88', '46', '87', '90', '113',\n",
       "       '200', '210', '193', '?', '100', '105', '175', '153', '180', '110',\n",
       "       '72', '86', '70', '76', '65', '69', '60', '80', '54', '208', '155',\n",
       "       '112', '92', '145', '137', '158', '167', '94', '107', '230', '49',\n",
       "       '75', '91', '122', '67', '83', '78', '52', '61', '93', '148',\n",
       "       '129', '96', '71', '98', '115', '53', '81', '79', '120', '152',\n",
       "       '102', '108', '68', '58', '149', '89', '63', '48', '66', '139',\n",
       "       '103', '125', '133', '138', '135', '142', '77', '62', '132', '84',\n",
       "       '64', '74', '116', '82'], dtype=object)"
      ]
     },
     "execution_count": 77,
     "metadata": {},
     "output_type": "execute_result"
    }
   ],
   "source": [
    "df[\"horsepower\"].unique()"
   ]
  },
  {
   "cell_type": "code",
   "execution_count": 87,
   "id": "ece602d7-66d2-45ca-9427-143ad8b3ed8e",
   "metadata": {},
   "outputs": [
    {
     "name": "stdout",
     "output_type": "stream",
     "text": [
      "0      130.0\n",
      "1      165.0\n",
      "2      150.0\n",
      "3      150.0\n",
      "4      140.0\n",
      "       ...  \n",
      "393     86.0\n",
      "394     52.0\n",
      "395     84.0\n",
      "396     79.0\n",
      "397     82.0\n",
      "Name: horsepower, Length: 398, dtype: float64\n"
     ]
    }
   ],
   "source": [
    "#horsepower_median = df['horsepower'].median(numeric_only=True)\n",
    "#print(horsepower_median)\n",
    "#df['horsepower'] = df['horsepower'].replace('?', horsepower_median)\n",
    "#print(df)\n",
    "df['horsepower'] = pd.to_numeric(df['horsepower'], errors='coerce')\n",
    "median_value = df['horsepower'].median(numeric_only=True)\n",
    "df['horsepower'] = df['horsepower'].replace('?', median_value )\n",
    "print(df['horsepower'] )\n"
   ]
  },
  {
   "cell_type": "code",
   "execution_count": 89,
   "id": "996d2a04-e0e3-4a1f-8598-ccb5546ad5b9",
   "metadata": {},
   "outputs": [
    {
     "name": "stdout",
     "output_type": "stream",
     "text": [
      "      mpg  cylinders  displacement  horsepower  weight  acceleration  \\\n",
      "0    18.0          8         307.0       130.0    3504          12.0   \n",
      "1    15.0          8         350.0       165.0    3693          11.5   \n",
      "2    18.0          8         318.0       150.0    3436          11.0   \n",
      "3    16.0          8         304.0       150.0    3433          12.0   \n",
      "4    17.0          8         302.0       140.0    3449          10.5   \n",
      "..    ...        ...           ...         ...     ...           ...   \n",
      "393  27.0          4         140.0        86.0    2790          15.6   \n",
      "394  44.0          4          97.0        52.0    2130          24.6   \n",
      "395  32.0          4         135.0        84.0    2295          11.6   \n",
      "396  28.0          4         120.0        79.0    2625          18.6   \n",
      "397  31.0          4         119.0        82.0    2720          19.4   \n",
      "\n",
      "     model year  origin                   car name  power_to_weight_ratio  \n",
      "0            70       1  chevrolet chevelle malibu               0.037100  \n",
      "1            70       1          buick skylark 320               0.044679  \n",
      "2            70       1         plymouth satellite               0.043655  \n",
      "3            70       1              amc rebel sst               0.043694  \n",
      "4            70       1                ford torino               0.040591  \n",
      "..          ...     ...                        ...                    ...  \n",
      "393          82       1            ford mustang gl               0.030824  \n",
      "394          82       2                  vw pickup               0.024413  \n",
      "395          82       1              dodge rampage               0.036601  \n",
      "396          82       1                ford ranger               0.030095  \n",
      "397          82       1                 chevy s-10               0.030147  \n",
      "\n",
      "[398 rows x 10 columns]\n"
     ]
    }
   ],
   "source": [
    "# 4 Calculate power-to-weight ratio\n",
    "df['power_to_weight_ratio'] = df['horsepower'] / df['weight']\n",
    "print(df)"
   ]
  },
  {
   "cell_type": "code",
   "execution_count": 90,
   "id": "ab3ad629-6bb8-42e7-abc2-711a7c10ec0e",
   "metadata": {},
   "outputs": [
    {
     "name": "stdout",
     "output_type": "stream",
     "text": [
      "origin\n",
      "1    20.083534\n",
      "2    27.891429\n",
      "3    30.450633\n",
      "Name: mpg, dtype: float64\n"
     ]
    }
   ],
   "source": [
    "#5\n",
    "mean_mpg_by_origin = df.groupby('origin')['mpg'].mean()\n",
    "print(mean_mpg_by_origin)"
   ]
  },
  {
   "cell_type": "code",
   "execution_count": 91,
   "id": "c388a8e4-7ca2-4b70-b21c-519134e65493",
   "metadata": {},
   "outputs": [
    {
     "name": "stdout",
     "output_type": "stream",
     "text": [
      "      mpg  cylinders  displacement  horsepower  weight  acceleration  \\\n",
      "322  46.6          4          86.0        65.0    2110          17.9   \n",
      "329  44.6          4          91.0        67.0    1850          13.8   \n",
      "325  44.3          4          90.0        48.0    2085          21.7   \n",
      "394  44.0          4          97.0        52.0    2130          24.6   \n",
      "326  43.4          4          90.0        48.0    2335          23.7   \n",
      "244  43.1          4          90.0        48.0    1985          21.5   \n",
      "309  41.5          4          98.0        76.0    2144          14.7   \n",
      "330  40.9          4          85.0         NaN    1835          17.3   \n",
      "324  40.8          4          85.0        65.0    2110          19.2   \n",
      "247  39.4          4          85.0        70.0    2070          18.6   \n",
      "\n",
      "     model year  origin                         car name  \\\n",
      "322          80       3                        mazda glc   \n",
      "329          80       3              honda civic 1500 gl   \n",
      "325          80       2             vw rabbit c (diesel)   \n",
      "394          82       2                        vw pickup   \n",
      "326          80       2               vw dasher (diesel)   \n",
      "244          78       2  volkswagen rabbit custom diesel   \n",
      "309          80       2                        vw rabbit   \n",
      "330          80       2             renault lecar deluxe   \n",
      "324          80       3                       datsun 210   \n",
      "247          78       3                   datsun b210 gx   \n",
      "\n",
      "     power_to_weight_ratio  \n",
      "322               0.030806  \n",
      "329               0.036216  \n",
      "325               0.023022  \n",
      "394               0.024413  \n",
      "326               0.020557  \n",
      "244               0.024181  \n",
      "309               0.035448  \n",
      "330                    NaN  \n",
      "324               0.030806  \n",
      "247               0.033816  \n"
     ]
    }
   ],
   "source": [
    "#6\n",
    "top_10_mpg = df.sort_values(by='mpg', ascending=False).head(10)\n",
    "print(top_10_mpg)"
   ]
  },
  {
   "cell_type": "code",
   "execution_count": 92,
   "id": "51f10acf-d154-40aa-8edd-7a4ff30dcc13",
   "metadata": {},
   "outputs": [
    {
     "name": "stdout",
     "output_type": "stream",
     "text": [
      "      mpg  cylinders  displacement  horsepower  weight  acceleration  \\\n",
      "0    18.0          8         307.0       130.0    3504          12.0   \n",
      "1    15.0          8         350.0       165.0    3693          11.5   \n",
      "2    18.0          8         318.0       150.0    3436          11.0   \n",
      "3    16.0          8         304.0       150.0    3433          12.0   \n",
      "4    17.0          8         302.0       140.0    3449          10.5   \n",
      "..    ...        ...           ...         ...     ...           ...   \n",
      "393  27.0          4         140.0        86.0    2790          15.6   \n",
      "394  44.0          4          97.0        52.0    2130          24.6   \n",
      "395  32.0          4         135.0        84.0    2295          11.6   \n",
      "396  28.0          4         120.0        79.0    2625          18.6   \n",
      "397  31.0          4         119.0        82.0    2720          19.4   \n",
      "\n",
      "     model year  origin                   car name  power_to_weight_ratio  \\\n",
      "0            70       1  chevrolet chevelle malibu               0.037100   \n",
      "1            70       1          buick skylark 320               0.044679   \n",
      "2            70       1         plymouth satellite               0.043655   \n",
      "3            70       1              amc rebel sst               0.043694   \n",
      "4            70       1                ford torino               0.040591   \n",
      "..          ...     ...                        ...                    ...   \n",
      "393          82       1            ford mustang gl               0.030824   \n",
      "394          82       2                  vw pickup               0.024413   \n",
      "395          82       1              dodge rampage               0.036601   \n",
      "396          82       1                ford ranger               0.030095   \n",
      "397          82       1                 chevy s-10               0.030147   \n",
      "\n",
      "     performance_score  \n",
      "0             0.061644  \n",
      "1             0.046710  \n",
      "2             0.057625  \n",
      "3             0.055928  \n",
      "4             0.051754  \n",
      "..                 ...  \n",
      "393           0.150968  \n",
      "394           0.508169  \n",
      "395           0.161743  \n",
      "396           0.198400  \n",
      "397           0.221103  \n",
      "\n",
      "[398 rows x 11 columns]\n"
     ]
    }
   ],
   "source": [
    "#7\n",
    "# Define the custom function\n",
    "def performance_score(row):\n",
    "    return row['mpg'] * row['acceleration'] / row['weight']\n",
    "\n",
    "# Apply function to each row and create the new column\n",
    "df['performance_score'] = df.apply(performance_score, axis=1)\n",
    "\n",
    "print(df)\n"
   ]
  },
  {
   "cell_type": "code",
   "execution_count": 95,
   "id": "3ce635b6-7c51-447c-ab44-475488c01b3a",
   "metadata": {},
   "outputs": [
    {
     "name": "stdout",
     "output_type": "stream",
     "text": [
      "                  mpg       weight  horsepower\n",
      "model year                                    \n",
      "70          17.689655  3372.793103  147.827586\n",
      "71          21.250000  2995.428571  107.037037\n",
      "72          18.714286  3237.714286  120.178571\n",
      "73          17.100000  3419.025000  130.475000\n",
      "74          22.703704  2877.925926   94.230769\n",
      "75          20.266667  3176.800000  101.066667\n",
      "76          21.573529  3078.735294  101.117647\n",
      "77          23.375000  2997.357143  105.071429\n",
      "78          24.061111  2861.805556   99.694444\n",
      "79          25.093103  3055.344828  101.206897\n",
      "80          33.696552  2436.655172   77.481481\n",
      "81          30.334483  2522.931034   81.035714\n",
      "82          31.709677  2453.548387   81.466667\n"
     ]
    }
   ],
   "source": [
    "#8\n",
    "# Group by 'model_year' and calculate the mean for mpg, weight, and horsepower\n",
    "summary_df = df.groupby('model year')[['mpg', 'weight', 'horsepower']].mean()\n",
    "print(summary_df)"
   ]
  },
  {
   "cell_type": "code",
   "execution_count": 96,
   "id": "f808b823-83d7-464e-b792-8e11b04cdabd",
   "metadata": {},
   "outputs": [
    {
     "name": "stdout",
     "output_type": "stream",
     "text": [
      "      mpg  cylinders  horsepower  weight\n",
      "53   31.0          4        65.0    1773\n",
      "54   35.0          4        69.0    1613\n",
      "129  31.0          4        67.0    1950\n",
      "131  32.0          4        65.0    1836\n",
      "144  31.0          4        52.0    1649\n",
      "..    ...        ...         ...     ...\n",
      "390  32.0          4        96.0    2665\n",
      "391  36.0          4        84.0    2370\n",
      "394  44.0          4        52.0    2130\n",
      "395  32.0          4        84.0    2295\n",
      "397  31.0          4        82.0    2720\n",
      "\n",
      "[85 rows x 4 columns]\n"
     ]
    }
   ],
   "source": [
    "#9\n",
    "\n",
    "# Filter cars with mpg > 30\n",
    "high_mpg_cars = df[df['mpg'] > 30][['mpg', 'cylinders', 'horsepower', 'weight']]\n",
    "# Display result\n",
    "print(high_mpg_cars)\n",
    "# Save to CSV\n",
    "high_mpg_cars.to_csv('high_mpg_cars.csv', index=False)\n",
    "\n"
   ]
  },
  {
   "cell_type": "code",
   "execution_count": 100,
   "id": "3c6f29e1-64a0-48de-ad3f-ebef57724949",
   "metadata": {},
   "outputs": [
    {
     "name": "stdout",
     "output_type": "stream",
     "text": [
      "Q1 : 17.5\n",
      "Q2 : 29.0\n",
      "Interquartile Range : 11.5\n",
      "Lower bound :0.25\n",
      "Upper bound :46.25\n",
      "      car name   mpg  model year\n",
      "322  mazda glc  46.6          80\n"
     ]
    }
   ],
   "source": [
    "#10\n",
    "# Step 1: Calculate Q1, Q3, and IQR\n",
    "Q1 = df['mpg'].quantile(0.25)  # 25th percentile\n",
    "Q3 = df['mpg'].quantile(0.75)  # 75th percentile\n",
    "IQR = Q3 - Q1  # Interquartile Range\n",
    "print(\"Q1 :\",Q1)\n",
    "print(\"Q2 :\",Q3)\n",
    "print(\"Interquartile Range :\",IQR)\n",
    "\n",
    "# Step 2: Define Outlier Thresholds\n",
    "lower_bound = Q1 - 1.5 * IQR\n",
    "upper_bound = Q3 + 1.5 * IQR\n",
    "\n",
    "print(f\"Lower bound :{lower_bound}\\nUpper bound :{upper_bound}\")\n",
    "\n",
    "# Step 3: Identify Outliers\n",
    "outliers = df[(df['mpg'] < lower_bound) | (df['mpg'] > upper_bound)]\n",
    "\n",
    "\n",
    "# Step 4: Select Relevant Columns\n",
    "outlier_df = outliers[['car name', 'mpg', 'model year']]\n",
    "\n",
    "# Display Outliers\n",
    "print(outlier_df)"
   ]
  },
  {
   "cell_type": "code",
   "execution_count": null,
   "id": "c25f6022-602e-467c-9ba2-0665abdf5089",
   "metadata": {},
   "outputs": [],
   "source": []
  }
 ],
 "metadata": {
  "kernelspec": {
   "display_name": "Python 3 (ipykernel)",
   "language": "python",
   "name": "python3"
  },
  "language_info": {
   "codemirror_mode": {
    "name": "ipython",
    "version": 3
   },
   "file_extension": ".py",
   "mimetype": "text/x-python",
   "name": "python",
   "nbconvert_exporter": "python",
   "pygments_lexer": "ipython3",
   "version": "3.9.13"
  }
 },
 "nbformat": 4,
 "nbformat_minor": 5
}
